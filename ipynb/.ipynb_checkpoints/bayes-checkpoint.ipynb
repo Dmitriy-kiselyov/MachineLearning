{
 "cells": [
  {
   "cell_type": "code",
   "execution_count": 154,
   "metadata": {},
   "outputs": [],
   "source": [
    "from sklearn import datasets\n",
    "from sklearn.naive_bayes import GaussianNB\n",
    "import matplotlib.pyplot as plot\n",
    "\n",
    "from ipywidgets import interact\n",
    "import ipywidgets as widgets"
   ]
  },
  {
   "cell_type": "code",
   "execution_count": 155,
   "metadata": {},
   "outputs": [
    {
     "name": "stdout",
     "output_type": "stream",
     "text": [
      "[[4.9 3.  1.4 0.2]\n",
      " [4.7 3.2 1.3 0.2]\n",
      " [4.6 3.1 1.5 0.2]\n",
      " [5.  3.6 1.4 0.2]\n",
      " [5.4 3.9 1.7 0.4]\n",
      " [4.6 3.4 1.4 0.3]\n",
      " [5.  3.4 1.5 0.2]\n",
      " [4.4 2.9 1.4 0.2]\n",
      " [4.9 3.1 1.5 0.1]\n",
      " [5.4 3.7 1.5 0.2]\n",
      " [4.8 3.4 1.6 0.2]\n",
      " [4.8 3.  1.4 0.1]\n",
      " [4.3 3.  1.1 0.1]\n",
      " [5.8 4.  1.2 0.2]]\n",
      "...\n"
     ]
    }
   ],
   "source": [
    "iris = datasets.load_iris()\n",
    "print(iris.data[1:15])\n",
    "print(\"...\")"
   ]
  },
  {
   "cell_type": "code",
   "execution_count": 156,
   "metadata": {
    "scrolled": false
   },
   "outputs": [
    {
     "name": "stdout",
     "output_type": "stream",
     "text": [
      "Апостерирорные вероятности = [0.33333333 0.33333333 0.33333333]\n",
      "Мат ожидания =\n",
      " [[5.006 3.428 1.462 0.246]\n",
      " [5.936 2.77  4.26  1.326]\n",
      " [6.588 2.974 5.552 2.026]]\n",
      "Дисперсии =\n",
      " [[0.121764 0.140816 0.029556 0.010884]\n",
      " [0.261104 0.0965   0.2164   0.038324]\n",
      " [0.396256 0.101924 0.298496 0.073924]]\n"
     ]
    }
   ],
   "source": [
    "gnb = GaussianNB()\n",
    "gnb.fit(iris.data, iris.target)\n",
    "\n",
    "print(\"Апостерирорные вероятности =\", gnb.class_prior_)\n",
    "print(\"Мат ожидания =\\n\", gnb.theta_)\n",
    "print(\"Дисперсии =\\n\", gnb.sigma_)"
   ]
  },
  {
   "cell_type": "code",
   "execution_count": 157,
   "metadata": {},
   "outputs": [
    {
     "data": {
      "text/plain": [
       "interactive(children=(IntSlider(value=0, description='y', max=2), IntSlider(value=0, description='feature', ma…"
      ]
     },
     "metadata": {},
     "output_type": "display_data"
    }
   ],
   "source": [
    "def show_feature(y, feature):\n",
    "    feature_by_y = iris.data[list(map(lambda t: t == y, iris.target)), feature]\n",
    "\n",
    "    d = {}\n",
    "    for feat in feature_by_y:\n",
    "        cnt = d.get(feat, 0)\n",
    "        d[feat] = cnt + 1\n",
    "\n",
    "    plot.rcParams['figure.figsize'] = (15, 2)\n",
    "    plot.figure()\n",
    "    for (key, value) in d.items():\n",
    "        plot.plot(key, 0, 'bo', markersize=value * 2)\n",
    "\n",
    "    plot.plot(gnb.theta_[y,feature], 0, 'ro', markersize=8)\n",
    "\n",
    "    plot.show()\n",
    "\n",
    "    print(\"Мат. ожидание =\", str(gnb.theta_[y,feature]))\n",
    "    print(\"Дисперсия =\", str(gnb.sigma_[y,feature]))\n",
    "    \n",
    "interact(show_feature, \n",
    "                y = widgets.IntSlider(min = 0, max = 2, value = 0),\n",
    "                feature = widgets.IntSlider(min = 0, max = 3, value = 0),\n",
    "               );"
   ]
  },
  {
   "cell_type": "code",
   "execution_count": 158,
   "metadata": {},
   "outputs": [
    {
     "name": "stdout",
     "output_type": "stream",
     "text": [
      "Количество неправильно распознанных ирисов из 150 = 6\n"
     ]
    }
   ],
   "source": [
    "y_predict = gnb.predict(iris.data)\n",
    "\n",
    "print(\"Количество неправильно распознанных ирисов из %d = %d\"\n",
    "       % (iris.data.shape[0],(iris.target != y_predict).sum()))"
   ]
  },
  {
   "cell_type": "code",
   "execution_count": 160,
   "metadata": {},
   "outputs": [
    {
     "data": {
      "text/plain": [
       "interactive(children=(IntSlider(value=0, description='feat1', max=3), IntSlider(value=1, description='feat2', …"
      ]
     },
     "metadata": {},
     "output_type": "display_data"
    }
   ],
   "source": [
    "def show_2_features(feat1, feat2):\n",
    "    data = iris.data[:,[feat1, feat2]]\n",
    "\n",
    "    gnb2 = GaussianNB()\n",
    "    gnb2.fit(data, iris.target)\n",
    "\n",
    "    y_predict2 = gnb2.predict(data)\n",
    "\n",
    "    print(\"Количество неправильно распознанных ирисов из %d = %d\"\n",
    "           % (data.shape[0],(iris.target != y_predict2).sum()))\n",
    "\n",
    "    def get_by_y(y):\n",
    "            return data[list(map(lambda t: t == y, iris.target))]\n",
    "\n",
    "    plot.rcParams['figure.figsize'] = (15, 10)\n",
    "    plot.figure()\n",
    "\n",
    "    colors = ['r', 'b', 'g']\n",
    "    for y in range(0, 3):\n",
    "        data_y = get_by_y(y)\n",
    "        plot.plot(data_y[:,0], data_y[:,1], 'o', color = colors[y], markersize=10)\n",
    "\n",
    "    errors = data[iris.target != y_predict2]\n",
    "    plot.plot(errors[:,0], errors[:,1], 'w*', markersize=10)\n",
    "\n",
    "    plot.show()\n",
    "    \n",
    "interact(show_2_features, \n",
    "                feat1 = widgets.IntSlider(min = 0, max = 3, value = 0),\n",
    "                feat2 = widgets.IntSlider(min = 0, max = 3, value = 1),\n",
    "               );"
   ]
  },
  {
   "cell_type": "code",
   "execution_count": null,
   "metadata": {},
   "outputs": [],
   "source": []
  },
  {
   "cell_type": "code",
   "execution_count": null,
   "metadata": {},
   "outputs": [],
   "source": []
  }
 ],
 "metadata": {
  "kernelspec": {
   "display_name": "Python 3",
   "language": "python",
   "name": "python3"
  },
  "language_info": {
   "codemirror_mode": {
    "name": "ipython",
    "version": 3
   },
   "file_extension": ".py",
   "mimetype": "text/x-python",
   "name": "python",
   "nbconvert_exporter": "python",
   "pygments_lexer": "ipython3",
   "version": "3.5.2"
  }
 },
 "nbformat": 4,
 "nbformat_minor": 1
}
