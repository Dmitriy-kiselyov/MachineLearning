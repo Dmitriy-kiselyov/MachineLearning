{
 "cells": [
  {
   "cell_type": "markdown",
   "metadata": {},
   "source": [
    "# Методы отбора признаков\n",
    "\n",
    "Это процесс отбора подмножества значимых признаков для использования в построении модели. Методы отбора применяют в случаях когда нужно сократить количество признаков для:\n",
    "- ускорения алгоритмов обучения\n",
    "- уменьшения потребляемой памяти\n",
    "- избавления от неинформативных признаков и выбросов\n",
    "\n",
    "Прежде, чем описывать алгоритмы, подготовим среду *jupyter notebook*."
   ]
  },
  {
   "cell_type": "code",
   "execution_count": 5,
   "metadata": {},
   "outputs": [],
   "source": [
    "import os\n",
    "import sys\n",
    "module_path = os.path.abspath(os.path.join('..'))\n",
    "if module_path not in sys.path:\n",
    "    sys.path.append(module_path)"
   ]
  },
  {
   "cell_type": "markdown",
   "metadata": {},
   "source": [
    "И установим внешние зависимости:"
   ]
  },
  {
   "cell_type": "code",
   "execution_count": 6,
   "metadata": {},
   "outputs": [],
   "source": [
    "import numpy as np\n",
    "from itertools import combinations"
   ]
  },
  {
   "cell_type": "markdown",
   "metadata": {},
   "source": [
    "Также понадобятся вспомогательные методы.\n",
    "\n",
    "1. Получает на вход выборку `dataset`. Ожидается, что `dataset` будет взят из `sklearn/datasets`, но можно любую структуру данных с аналогичным интерфейсом."
   ]
  },
  {
   "cell_type": "code",
   "execution_count": 7,
   "metadata": {},
   "outputs": [],
   "source": [
    "def get_feature_count(dataset):\n",
    "    return len(dataset.data[0])"
   ]
  },
  {
   "cell_type": "markdown",
   "metadata": {},
   "source": [
    "2. Получает на вход выборку `dataset` и массив прикнаков `feature`. Выбирает из выборки только признаки из `feature`, проводит по ним обучение (взял *наивного Байеса*), проводит классификацию и возвращает количество допущенных ошибок."
   ]
  },
  {
   "cell_type": "code",
   "execution_count": 9,
   "metadata": {},
   "outputs": [],
   "source": [
    "from sklearn.naive_bayes import GaussianNB\n",
    "\n",
    "def count_error(dataset, features):\n",
    "    data = dataset.data[:, features]\n",
    "\n",
    "    gnb = GaussianNB()\n",
    "    gnb.fit(data, dataset.target)\n",
    "\n",
    "    y_predict = gnb.predict(data)\n",
    "\n",
    "    return (dataset.target != y_predict).sum()"
   ]
  },
  {
   "cell_type": "markdown",
   "metadata": {},
   "source": [
    "## Полный перебор\n",
    "\n",
    "Полный перебор даёт 100% гарантию наилучшего ответа. Очевидно, что сложность алгоритма *экспоненциальная* и при большом количестве признаков умноженном на скорость обучения ответа можно не дождаться.\n",
    "\n",
    "Алгоритм перебирает всевозможные наборы прикнаков и из наилучшего берет с наименьшим количеством признаков.\n",
    "\n",
    "Введём вспомогательную функцию, которая будет по количеству признаков возвращать генераторы комбинаций прикнаков:"
   ]
  },
  {
   "cell_type": "code",
   "execution_count": 10,
   "metadata": {},
   "outputs": [],
   "source": [
    "def __feat_gen(count):\n",
    "    for c in range(1, count + 1):\n",
    "        arr = list(range(count))\n",
    "        comb = combinations(arr, c)\n",
    "\n",
    "        yield from comb"
   ]
  },
  {
   "cell_type": "markdown",
   "metadata": {},
   "source": [
    "Функция полного перебора признаков на вход получает выборку `dataset`, возвращает словарь с интерфейсом:\n",
    "- `features` – массив признаков, дающий наименьшую ошибку\n",
    "- `error` – ошибка\n",
    "\n",
    "**Все последующие функции отбора признаков имеют такой же тип ответа.**"
   ]
  },
  {
   "cell_type": "code",
   "execution_count": 11,
   "metadata": {},
   "outputs": [],
   "source": [
    "def selection_full_search(dataset):\n",
    "    feature_count = get_feature_count(dataset)\n",
    "    result = {\n",
    "        \"error\": 9999,\n",
    "        \"features\": []\n",
    "    }\n",
    "\n",
    "    for feat_cur in __feat_gen(feature_count):\n",
    "        error = count_error(dataset, feat_cur)\n",
    "\n",
    "        if error < result[\"error\"]:\n",
    "            result = {\n",
    "                \"error\": error,\n",
    "                \"features\": feat_cur\n",
    "            }\n",
    "\n",
    "    return result"
   ]
  },
  {
   "cell_type": "markdown",
   "metadata": {},
   "source": [
    "**Применение и сравнение результатов будет в конце**"
   ]
  },
  {
   "cell_type": "markdown",
   "metadata": {},
   "source": [
    "## Алгоритм ADD\n",
    "\n",
    "Является жадным алгоритмом. Начинает с набора признаков `= []`. Добавляет в набор признаков по одному наилучшему признаку до тех пор, пока "
   ]
  },
  {
   "cell_type": "code",
   "execution_count": null,
   "metadata": {},
   "outputs": [],
   "source": []
  }
 ],
 "metadata": {
  "kernelspec": {
   "display_name": "Python 3",
   "language": "python",
   "name": "python3"
  },
  "language_info": {
   "codemirror_mode": {
    "name": "ipython",
    "version": 3
   },
   "file_extension": ".py",
   "mimetype": "text/x-python",
   "name": "python",
   "nbconvert_exporter": "python",
   "pygments_lexer": "ipython3",
   "version": "3.5.2"
  }
 },
 "nbformat": 4,
 "nbformat_minor": 2
}
