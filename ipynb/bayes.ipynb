{
 "cells": [
  {
   "cell_type": "markdown",
   "metadata": {},
   "source": [
    "# GaussianNB\n",
    "\n",
    "В данном примере я расскжау о реализации ***Гауссовского наивного Байеса*** в библиотеке `sklearn`.\n",
    "\n",
    "Но для начала немного формальностей. Подключим библиотеки:"
   ]
  },
  {
   "cell_type": "code",
   "execution_count": 1,
   "metadata": {},
   "outputs": [],
   "source": [
    "from sklearn import datasets\n",
    "import matplotlib.pyplot as plot\n",
    "\n",
    "from ipywidgets import interact\n",
    "import ipywidgets as widgets"
   ]
  },
  {
   "cell_type": "markdown",
   "metadata": {},
   "source": [
    "Подключим, собственно, класс *наивного Байеса*:"
   ]
  },
  {
   "cell_type": "code",
   "execution_count": 2,
   "metadata": {},
   "outputs": [],
   "source": [
    "from sklearn.naive_bayes import GaussianNB"
   ]
  },
  {
   "cell_type": "markdown",
   "metadata": {},
   "source": [
    "Для демонстрации возможностей библиотеки воспользуемся привычными для классификации ***ирисами Фишера***:"
   ]
  },
  {
   "cell_type": "code",
   "execution_count": 3,
   "metadata": {},
   "outputs": [
    {
     "name": "stdout",
     "output_type": "stream",
     "text": [
      "[[4.9 3.  1.4 0.2]\n",
      " [4.7 3.2 1.3 0.2]\n",
      " [4.6 3.1 1.5 0.2]\n",
      " [5.  3.6 1.4 0.2]\n",
      " [5.4 3.9 1.7 0.4]\n",
      " [4.6 3.4 1.4 0.3]\n",
      " [5.  3.4 1.5 0.2]\n",
      " [4.4 2.9 1.4 0.2]\n",
      " [4.9 3.1 1.5 0.1]\n",
      " [5.4 3.7 1.5 0.2]\n",
      " [4.8 3.4 1.6 0.2]\n",
      " [4.8 3.  1.4 0.1]\n",
      " [4.3 3.  1.1 0.1]\n",
      " [5.8 4.  1.2 0.2]]\n",
      "...\n"
     ]
    }
   ],
   "source": [
    "iris = datasets.load_iris()\n",
    "print(iris.data[1:15])\n",
    "print(\"...\")"
   ]
  },
  {
   "cell_type": "markdown",
   "metadata": {},
   "source": [
    "## API\n",
    "\n",
    "Класс `GaussianNB` имеет конструктор с параметрами\n",
    "\n",
    "`GaussianNB(priors=None, var_smoothing=1e-09)`, где\n",
    "\n",
    "* `priors` – массив априорных вероятностей классов $𝑃(𝑦)$. Если указано, апприорные не корректируются в соответствии с данными;\n",
    "* `var_smoothing` – (var-variance = дисперсия) часть наибольшей дисперсии всех признаков, добавляемая к отклонениям для стабильности расчета."
   ]
  },
  {
   "cell_type": "markdown",
   "metadata": {},
   "source": [
    "Экземпляр класса имеет ряд свойств (доступны после обучения):\n",
    "\n",
    "* `class_prior_` – массив апостериорных вероятностей появления класса $𝑃(𝑦)$. В случае, если при создании priors не были указаны, вычисляется по формуле $𝑃(𝑦)=ℓ𝑦ℓ$.\n",
    "* `class_count_` – массив количества объектов каждого класса\n",
    "* `theta_` – матрица мат. ожидания\n",
    "* `sigma_` – матрица дисперсии\n",
    "\n",
    "### Основные методы\n",
    "\n",
    "```\n",
    "fit(X: array-like, shape (n_samples, n_features)\n",
    "    y: array-like, shape (n_samples,)\n",
    "    sample_weight: array-like, shape(n_samples,), optional(default=None)\n",
    "```\n",
    "\n",
    "`sample_weight` – вес каждого объекта, если веса имеются\n",
    "\n",
    "Обучает наивного Байеса\n",
    "\n",
    "```\n",
    "partial_fit(X, y, classes=None, sample_weight=None)\n",
    "```\n",
    "\n",
    "Частичное обучение по кускам данных. Этот метод нужно вызывать несколько раз с разными данными. Создан для тех случаев, когда данные не влезают в оперативную память или приходят кусками. Данные лучше скармливать как можно большими порциями, у этого метода есть проблемы с производительностью и точностью.\n",
    "\n",
    "```\n",
    "predict(X: array-like, shape = [n_samples, n_features])\n",
    "\n",
    "returns: C : array, shape = [n_samples]\n",
    "```\n",
    "\n",
    "Классифицирует `X`\n",
    "\n",
    "```\n",
    "predict_proba(X)\n",
    "```\n",
    "\n",
    "Кроме того, что классифицирует, еще и возвращает вероятности принадлежности объекта каждому классу. Пользоваться им не рекомендуют, причины я уже говорил ранее. Предположение о независимости признаков плохо сказывается на этой величине."
   ]
  },
  {
   "cell_type": "markdown",
   "metadata": {},
   "source": [
    "## Пример"
   ]
  },
  {
   "cell_type": "code",
   "execution_count": 5,
   "metadata": {
    "scrolled": false
   },
   "outputs": [
    {
     "name": "stdout",
     "output_type": "stream",
     "text": [
      "Апостерирорные вероятности = [0.33333333 0.33333333 0.33333333]\n",
      "Мат ожидания =\n",
      " [[5.006 3.428 1.462 0.246]\n",
      " [5.936 2.77  4.26  1.326]\n",
      " [6.588 2.974 5.552 2.026]]\n",
      "Дисперсии =\n",
      " [[0.121764 0.140816 0.029556 0.010884]\n",
      " [0.261104 0.0965   0.2164   0.038324]\n",
      " [0.396256 0.101924 0.298496 0.073924]]\n"
     ]
    }
   ],
   "source": [
    "gnb = GaussianNB()\n",
    "gnb.fit(iris.data, iris.target)\n",
    "\n",
    "print(\"Апостерирорные вероятности =\", gnb.class_prior_)\n",
    "print(\"Мат ожидания =\\n\", gnb.theta_)\n",
    "print(\"Дисперсии =\\n\", gnb.sigma_)"
   ]
  },
  {
   "cell_type": "markdown",
   "metadata": {},
   "source": [
    "Запустим алгоритм на всей выборке:"
   ]
  },
  {
   "cell_type": "code",
   "execution_count": 6,
   "metadata": {},
   "outputs": [
    {
     "name": "stdout",
     "output_type": "stream",
     "text": [
      "Количество неправильно распознанных ирисов из 150 = 6\n"
     ]
    }
   ],
   "source": [
    "y_predict = gnb.predict(iris.data)\n",
    "\n",
    "print(\"Количество неправильно распознанных ирисов из %d = %d\"\n",
    "       % (iris.data.shape[0],(iris.target != y_predict).sum()))"
   ]
  },
  {
   "cell_type": "markdown",
   "metadata": {},
   "source": [
    "Функция ниже получает на вход номера 2х признаков, которые нужно отразить на графике и классифицировать. *Ирисы Фишера* имеют размерность > 2, поэтому их не возможно отравить на плоскости – для этого отбираем признаки.\n",
    "\n",
    "Звёздосчаки отмечены те объекты, которые были классифицированы неправильно."
   ]
  },
  {
   "cell_type": "code",
   "execution_count": 7,
   "metadata": {},
   "outputs": [
    {
     "name": "stdout",
     "output_type": "stream",
     "text": [
      "Количество неправильно распознанных ирисов из 150 = 33\n"
     ]
    },
    {
     "data": {
      "image/png": "[encoded data removed]",
      "text/plain": [
       "<Figure size 1080x720 with 1 Axes>"
      ]
     },
     "metadata": {
      "needs_background": "light"
     },
     "output_type": "display_data"
    }
   ],
   "source": [
    "def show_2_features(feat1, feat2):\n",
    "    data = iris.data[:,[feat1, feat2]]\n",
    "\n",
    "    gnb2 = GaussianNB()\n",
    "    gnb2.fit(data, iris.target)\n",
    "\n",
    "    y_predict2 = gnb2.predict(data)\n",
    "\n",
    "    print(\"Количество неправильно распознанных ирисов из %d = %d\"\n",
    "           % (data.shape[0],(iris.target != y_predict2).sum()))\n",
    "\n",
    "    def get_by_y(y):\n",
    "            return data[list(map(lambda t: t == y, iris.target))]\n",
    "\n",
    "    plot.rcParams['figure.figsize'] = (15, 10)\n",
    "    plot.figure()\n",
    "\n",
    "    colors = ['r', 'b', 'g']\n",
    "    for y in range(0, 3):\n",
    "        data_y = get_by_y(y)\n",
    "        plot.plot(data_y[:,0], data_y[:,1], 'o', color = colors[y], markersize=10)\n",
    "\n",
    "    errors = data[iris.target != y_predict2]\n",
    "    plot.plot(errors[:,0], errors[:,1], 'w*', markersize=10)\n",
    "\n",
    "    plot.show()\n",
    "    \n",
    "\n",
    "show_2_features(0, 1)"
   ]
  },
  {
   "cell_type": "code",
   "execution_count": 9,
   "metadata": {},
   "outputs": [
    {
     "name": "stdout",
     "output_type": "stream",
     "text": [
      "Количество неправильно распознанных ирисов из 150 = 6\n"
     ]
    },
    {
     "data": {
      "image/png": "[encoded data removed]",
      "text/plain": [
       "<Figure size 1080x720 with 1 Axes>"
      ]
     },
     "metadata": {
      "needs_background": "light"
     },
     "output_type": "display_data"
    }
   ],
   "source": [
    "show_2_features(0, 3)"
   ]
  },
  {
   "cell_type": "markdown",
   "metadata": {},
   "source": [
    "### Интерактив\n",
    "\n",
    "Этот пример будет использует виджеты jupiter notebook, поэтому будет работать только при наличии сервера. Не работает на статичных страницах гитхаба.\n",
    "\n",
    "Для работы с виджетами нужно поключить их с помощью\n",
    "\n",
    "```\n",
    "pip install ipywidgets\n",
    "jupyter nbextension enable --py widgetsnbextension\n",
    "```"
   ]
  },
  {
   "cell_type": "code",
   "execution_count": 160,
   "metadata": {},
   "outputs": [
    {
     "data": {
      "text/plain": [
       "interactive(children=(IntSlider(value=0, description='feat1', max=3), IntSlider(value=1, description='feat2', …"
      ]
     },
     "metadata": {},
     "output_type": "display_data"
    }
   ],
   "source": [
    "interact(show_2_features, \n",
    "                feat1 = widgets.IntSlider(min = 0, max = 3, value = 0),\n",
    "                feat2 = widgets.IntSlider(min = 0, max = 3, value = 1),\n",
    "               );"
   ]
  }
 ],
 "metadata": {
  "kernelspec": {
   "display_name": "Python 3",
   "language": "python",
   "name": "python3"
  },
  "language_info": {
   "codemirror_mode": {
    "name": "ipython",
    "version": 3
   },
   "file_extension": ".py",
   "mimetype": "text/x-python",
   "name": "python",
   "nbconvert_exporter": "python",
   "pygments_lexer": "ipython3",
   "version": "3.5.2"
  }
 },
 "nbformat": 4,
 "nbformat_minor": 1
}
