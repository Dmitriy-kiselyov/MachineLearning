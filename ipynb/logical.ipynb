{
 "cells": [
  {
   "cell_type": "markdown",
   "metadata": {},
   "source": [
    "# Логические алгоритмы классификации\n",
    "**Логические алгоритмы** – широкий класс алгоритмов, в основе которых лежит *принцип индуктивного вывода логических закономерностей* или *индуктивных правил*.\n",
    "\n",
    "**Логические алгоритмы классификации** – композиции легко интерпретируемых закономерностей."
   ]
  },
  {
   "attachments": {},
   "cell_type": "markdown",
   "metadata": {},
   "source": [
    "## Решающие списки\n",
    "\n",
    "**Решающий список** – это алгоритм классификации, который задается набором закономерностей $\\phi_1(x),...,\\phi_T(x)$, приписанных к классам $c_1,...,c_T \\in Y$ соответственно, и вычисляется согласно алгоритму:\n",
    "\n",
    "![image.png](img/logical_algo.png)"
   ]
  },
  {
   "attachments": {},
   "cell_type": "markdown",
   "metadata": {},
   "source": [
    "![image.png](img/logical_algo_visual.png)"
   ]
  },
  {
   "cell_type": "markdown",
   "metadata": {},
   "source": [
    "Ответ $c_0$ означает отказ алгоритма от классификации."
   ]
  },
  {
   "cell_type": "markdown",
   "metadata": {},
   "source": [
    "Но прежде, чем строить алгоритм, настроим среду *jupyter notebook*."
   ]
  },
  {
   "cell_type": "code",
   "execution_count": 1,
   "metadata": {},
   "outputs": [],
   "source": [
    "import os\n",
    "import sys\n",
    "module_path = os.path.abspath(os.path.join('..'))\n",
    "if module_path not in sys.path:\n",
    "    sys.path.append(module_path)"
   ]
  },
  {
   "cell_type": "markdown",
   "metadata": {},
   "source": [
    "И установим внешние зависимости:"
   ]
  },
  {
   "cell_type": "code",
   "execution_count": 2,
   "metadata": {},
   "outputs": [],
   "source": [
    "from matplotlib import pyplot as plot\n",
    "from sklearn import datasets"
   ]
  },
  {
   "cell_type": "markdown",
   "metadata": {},
   "source": [
    "#### Алгоритм построения списка\n",
    "- изначальная выборка $U = X$\n",
    "- пока в выборке есть объекты:\n",
    "    - для каждого класса $y$ из $Y$:\n",
    "        - находим наиболее информативное правило: $\\phi_y = \\arg \\max\\limits_{\\phi \\in \\Phi'}{I_c(\\phi, U)}$\n",
    "    - выбирать наиболее информативное правило из полученных правил для кадого класса: $\\phi_{max} = \\max\\limits_{y \\in Y}{\\phi_y}$\n",
    "    - исключить из выборки объекты, выделенные правилом $\\phi_{max}$: $U = \\{x \\in U: \\phi_{max}(x) = 0\\}$"
   ]
  },
  {
   "cell_type": "markdown",
   "metadata": {},
   "source": [
    "На каждой итерации алгоритм выделяет ровно одно правило $\\phi_{max}$, вделяющее максимально число объектов некоторого класса ${c_t}$ и минимальное число объектов остального класса."
   ]
  },
  {
   "attachments": {},
   "cell_type": "markdown",
   "metadata": {},
   "source": [
    "Для определения информативности $I_c$ правила воспользуемся **критерием энтропии**:\n",
    "\n",
    "![image.png](img/logical_entropy.png)"
   ]
  },
  {
   "attachments": {},
   "cell_type": "markdown",
   "metadata": {},
   "source": [
    "В итоге уменьшение энтропии составляет:\n",
    "![image.png](img/logical_gain.png)\n",
    "\n",
    "Подробнее о реализации формул энтропии см. [этот файл](../logical/entropy.py)."
   ]
  },
  {
   "attachments": {},
   "cell_type": "markdown",
   "metadata": {},
   "source": [
    "Для нахождения **информативности** для класса $y \\in Y$ нужно разбить оставшиеся объекты выборки $U$ на \"свои\" ✔ и \"чужие\" ✘. И далее для каждого признака построить *интервалы* $\\zeta$:\n",
    "![image.png](img/logical_interval.png)"
   ]
  },
  {
   "cell_type": "markdown",
   "metadata": {},
   "source": [
    "По этим интервалам мы строим *предикаты*:\n",
    "- $x < d_1$\n",
    "- $d_1 \\leq x \\leq d_2$\n",
    "- ...\n",
    "- $d_r \\geq x$\n",
    "и каждый предикат оцениваем формулой *энтропии*, после чего выбираем самый информативный."
   ]
  },
  {
   "cell_type": "markdown",
   "metadata": {},
   "source": [
    "Все алгоритмы **преобразования** выборки см. в [compress.py](../logical/compress.py). Алгоритм выбора наилучшего предиката см. в [entropy.py](../logical/entropy.py)."
   ]
  },
  {
   "cell_type": "markdown",
   "metadata": {},
   "source": [
    "Тут мы рассмотрим только основной алгоритм построения **решающего списка**. Собственно, вот он:"
   ]
  },
  {
   "cell_type": "code",
   "execution_count": 13,
   "metadata": {},
   "outputs": [],
   "source": [
    "from logical.data import remove_from_dataset\n",
    "from logical.entropy import find_best_gain\n",
    "from logical.predicate import create_predicate\n",
    "\n",
    "def create_decision_list(dataset, logger=None):\n",
    "    log = logger is not None\n",
    "\n",
    "    predicates = []\n",
    "\n",
    "    while len(dataset.data) > 0:\n",
    "        best_gain = find_best_gain(dataset, log=log)\n",
    "\n",
    "        predicate = create_predicate(best_gain)\n",
    "\n",
    "        remove = []\n",
    "        for i in range(len(dataset.data)):\n",
    "            x = dataset.data[i]\n",
    "            if predicate(x):\n",
    "                remove.append(i)\n",
    "\n",
    "        remove_from_dataset(dataset, remove)\n",
    "\n",
    "        if logger:\n",
    "            logger(best_gain, predicate, remove)\n",
    "            \n",
    "        predicates.append(predicate)\n",
    "\n",
    "    return predicates"
   ]
  },
  {
   "cell_type": "markdown",
   "metadata": {},
   "source": [
    "Для вывода промежуточных значений прокинем аргументом в алгоритм `logger`."
   ]
  },
  {
   "cell_type": "markdown",
   "metadata": {},
   "source": [
    "Визуализируем процесс построения **решающего списка** на выборке *Ирисов Фишера* по двум признакам (алгоритм умеет работать с любым числом признаков, но визуализировать это будет очень проблематично)."
   ]
  },
  {
   "cell_type": "code",
   "execution_count": 14,
   "metadata": {},
   "outputs": [
    {
     "data": {
      "image/png": "[encoded data removed]",
      "text/plain": [
       "<Figure size 432x288 with 1 Axes>"
      ]
     },
     "metadata": {
      "needs_background": "light"
     },
     "output_type": "display_data"
    },
    {
     "name": "stdout",
     "output_type": "stream",
     "text": [
      "F = 0 , C = r ; (16✔) (4✔,2✘) (8✔,2✘) (8✔,✘) (3✔,✘) ✔ (5✔,✘) (2✔,5✘) (6✘) (2✔,6✘) (✔,6✘) (61✘)\n",
      "F = 0 , C = b ; (16✘) (✔,5✘) (2✔,8✘) (✔,8✘) (✔,3✘) ✘ (✔,5✘) (5✔,2✘) (5✔,✘) (5✔,3✘) (3✔,4✘) ✔ (3✔,✘) (2✔,✘) (2✔,2✘) (2✔,5✘) (2✔,5✘) (✔,4✘) (2✔) (3✔,5✘) (✔,2✘) (✔,3✘) ✔ (12✘)\n",
      "F = 0 , C = g ; (16✘) (✔,5✘) (37✘) (✔,5✘) (✔,7✘) (3✔,4✘) ✘ (✔,3✘) (✔,2✘) (2✔,2✘) (5✔,2✘) (5✔,2✘) (4✔,✘) (2✘) (5✔,3✘) (2✔,✘) (3✔,✘) ✘ (12✔)\n",
      "F = 1 , C = r ; (50✔) (91✘)\n",
      "F = 1 , C = b ; (50✘) (41✔) (3✔,✘) (✔,✘) (44✘)\n",
      "F = 1 , C = g ; (91✘) (✔,3✘) (✔,✘) (44✔)\n",
      "----------------------------\n",
      "BEST: F = 1 , C = r , GAIN = 0.9381178648327113 from -inf to 0.8\n",
      "PREDICATE: [f₁(x) ≤ 0.8] ⇒ r\n",
      "REMOVE 50 POINTS\n"
     ]
    },
    {
     "data": {
      "image/png": "[encoded data removed]",
      "text/plain": [
       "<Figure size 432x288 with 1 Axes>"
      ]
     },
     "metadata": {
      "needs_background": "light"
     },
     "output_type": "display_data"
    },
    {
     "name": "stdout",
     "output_type": "stream",
     "text": [
      "F = 0 , C = b ; (✔,✘) (10✔) (5✔,✘) (5✔,✘) (3✔,3✘) ✔ (3✔,✘) (2✔,✘) (2✔,2✘) (2✔,5✘) (2✔,5✘) (✔,4✘) (2✔) (3✔,5✘) (✔,2✘) (✔,3✘) ✔ (12✘)\n",
      "F = 0 , C = g ; (✔,✘) (10✘) (✔,5✘) (✔,5✘) (3✔,3✘) ✘ (✔,3✘) (✔,2✘) (2✔,2✘) (5✔,2✘) (5✔,2✘) (4✔,✘) (2✘) (5✔,3✘) (2✔,✘) (3✔,✘) ✘ (12✔)\n",
      "F = 1 , C = b ; (41✔) (3✔,✘) (✔,✘) (44✘)\n",
      "F = 1 , C = g ; (41✘) (✔,3✘) (✔,✘) (44✔)\n",
      "----------------------------\n",
      "BEST: F = 1 , C = g , GAIN = 0.8687888598968113 from 1.75 to inf\n",
      "PREDICATE: [1.75 ≤ f₁(x)] ⇒ g\n",
      "REMOVE 44 POINTS\n"
     ]
    },
    {
     "data": {
      "image/png": "[encoded data removed]",
      "text/plain": [
       "<Figure size 432x288 with 1 Axes>"
      ]
     },
     "metadata": {
      "needs_background": "light"
     },
     "output_type": "display_data"
    },
    {
     "name": "stdout",
     "output_type": "stream",
     "text": [
      "F = 0 , C = b ; (✔,✘) (44✔) ✘\n",
      "F = 0 , C = g ; (✔,✘) (44✘) ✔\n",
      "F = 1 , C = b ; (41✔) (3✔,✘) (✔,✘)\n",
      "F = 1 , C = g ; (41✘) (✔,3✘) (✔,✘)\n",
      "----------------------------\n",
      "BEST: F = 0 , C = b , GAIN = 0.19526381259255582 from 4.95 to 7.1\n",
      "PREDICATE: [4.95 ≤ f₀(x) ≤ 7.1] ⇒ b\n",
      "REMOVE 44 POINTS\n"
     ]
    },
    {
     "data": {
      "image/png": "[encoded data removed]",
      "text/plain": [
       "<Figure size 432x288 with 1 Axes>"
      ]
     },
     "metadata": {
      "needs_background": "light"
     },
     "output_type": "display_data"
    },
    {
     "name": "stdout",
     "output_type": "stream",
     "text": [
      "F = 0 , C = b ; (✔,✘) ✘\n",
      "F = 0 , C = g ; (✔,✘) ✔\n",
      "F = 1 , C = b ; ✔ (2✘)\n",
      "F = 1 , C = g ; ✘ (2✔)\n",
      "----------------------------\n",
      "BEST: F = 1 , C = b , GAIN = 0.9182958340544896 from -inf to 1.3\n",
      "PREDICATE: [f₁(x) ≤ 1.3] ⇒ b\n",
      "REMOVE 1 POINTS\n"
     ]
    },
    {
     "data": {
      "image/png": "[encoded data removed]",
      "text/plain": [
       "<Figure size 432x288 with 1 Axes>"
      ]
     },
     "metadata": {
      "needs_background": "light"
     },
     "output_type": "display_data"
    },
    {
     "name": "stdout",
     "output_type": "stream",
     "text": [
      "F = 0 , C = g ; (2✔)\n",
      "F = 1 , C = g ; (2✔)\n",
      "----------------------------\n",
      "BEST: F = 1 , C = g , GAIN = -0.0 from -inf to inf\n",
      "PREDICATE: else ⇒ g\n",
      "REMOVE 2 POINTS\n"
     ]
    },
    {
     "data": {
      "image/png": "[encoded data removed]",
      "text/plain": [
       "<Figure size 432x288 with 1 Axes>"
      ]
     },
     "metadata": {
      "needs_background": "light"
     },
     "output_type": "display_data"
    }
   ],
   "source": [
    "from logical.data import prepare\n",
    "from logical.plot import plot_dataset, plot_gain\n",
    "\n",
    "\n",
    "colors = ['r', 'b', 'g']\n",
    "\n",
    "\n",
    "def fetch_data():\n",
    "    features = [0, 3]\n",
    "    return prepare(datasets.load_iris(), features, colors)\n",
    "\n",
    "\n",
    "gains = []\n",
    "iris = fetch_data()\n",
    "\n",
    "\n",
    "def logger(best_gain, predicate, remove):\n",
    "    print(\"----------------------------\")\n",
    "    log_best_gain(best_gain)\n",
    "    print(\"PREDICATE:\", predicate.to_str())\n",
    "    print(\"REMOVE\", len(remove), \"POINTS\")\n",
    "\n",
    "    gains.append(best_gain)\n",
    "\n",
    "    plot_dataset(iris, colors)\n",
    "    for i in range(len(gains)):\n",
    "        plot_gain(gains[i], zorder=len(gains)-i)\n",
    "    plot.show()\n",
    "\n",
    "\n",
    "def log_best_gain(gain):\n",
    "    print(\"BEST: F =\", gain[\"feat\"], \", C =\", gain[\"class\"], \", GAIN =\", gain[\"gain\"], \"from\", gain[\"value\"][\"from\"], \"to\", gain[\"value\"][\"to\"])\n",
    "\n",
    "\n",
    "plot_dataset(iris, colors)\n",
    "plot.show()\n",
    "\n",
    "predicates = create_decision_list(fetch_data(), logger=logger)"
   ]
  },
  {
   "cell_type": "markdown",
   "metadata": {},
   "source": [
    "На каждом шаге видим, как алгоритм для каждого признака `F = {0, 1}` и каждого класса `C = {r, g, b}` разделяет выборку на \"своих\" ✔ и \"чужих\" ✘. Запись `(16✔)` означает, что подряд встречаются 16 \"своих\". Запись `(4✔,2✘)` означает, что на одной линии лежат 4 \"своих\" и 2 \"чужих\" и по этому признаку отделить их нельзя.\n",
    "\n",
    "Далее алгоритм выбирает лучший предикат и с его помощью убирает из выборки все подходящие объекты."
   ]
  },
  {
   "cell_type": "markdown",
   "metadata": {},
   "source": [
    "В итоге, алгоритм построил такой список:"
   ]
  },
  {
   "cell_type": "code",
   "execution_count": 10,
   "metadata": {},
   "outputs": [
    {
     "name": "stdout",
     "output_type": "stream",
     "text": [
      "[f₁(x) ≤ 0.8] ⇒ r\n",
      "[1.75 ≤ f₁(x)] ⇒ g\n",
      "[4.95 ≤ f₀(x) ≤ 7.1] ⇒ b\n",
      "[f₁(x) ≤ 1.3] ⇒ b\n",
      "else ⇒ g\n"
     ]
    }
   ],
   "source": [
    "for p in predicates:\n",
    "    print(p.to_str())"
   ]
  }
 ],
 "metadata": {
  "kernelspec": {
   "display_name": "Python 3",
   "language": "python",
   "name": "python3"
  },
  "language_info": {
   "codemirror_mode": {
    "name": "ipython",
    "version": 3
   },
   "file_extension": ".py",
   "mimetype": "text/x-python",
   "name": "python",
   "nbconvert_exporter": "python",
   "pygments_lexer": "ipython3",
   "version": "3.5.2"
  }
 },
 "nbformat": 4,
 "nbformat_minor": 2
}
