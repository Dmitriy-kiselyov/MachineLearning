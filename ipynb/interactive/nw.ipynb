{
 "cells": [
  {
   "cell_type": "markdown",
   "metadata": {},
   "source": [
    "# Методы восстановления регрессии\n",
    "\n",
    "Задачу обучения по прецедентам при $Y=\\mathbb{R}$ принято называть задачей восстановления регрессии. Задано пространство объектов X и множество возможных ответов Y. Существует неизвестная целевая зависимость $y^*:X\\rightarrow Y$ , значения которой известны только на объектах обучающей выборки $X^\\ell = (x_i, y_i)_{i-1}^\\ell, y_i = y^* (x_i)$. Требуется построить алгоритм, который в данной задаче принято называть \"функцией регрессии\" $a: X^* \\rightarrow Y$ , аппроксимирующий целевую зависимость $y^*$."
   ]
  },
  {
   "cell_type": "markdown",
   "metadata": {},
   "source": [
    " ## Непараметрическая регрессия: ядерное сглаживание\n",
    " \n",
    "Для начала настроим окружение jupiter notebook:"
   ]
  },
  {
   "cell_type": "code",
   "execution_count": 1,
   "metadata": {},
   "outputs": [],
   "source": [
    "import os\n",
    "import sys\n",
    "module_path = os.path.abspath(os.path.join('../..'))\n",
    "if module_path not in sys.path:\n",
    "    sys.path.append(module_path)"
   ]
  },
  {
   "cell_type": "markdown",
   "metadata": {},
   "source": [
    "И установим внешние зависимости:"
   ]
  },
  {
   "cell_type": "code",
   "execution_count": 2,
   "metadata": {},
   "outputs": [],
   "source": [
    "from ipywidgets import interact_manual\n",
    "import ipywidgets as widgets"
   ]
  },
  {
   "cell_type": "code",
   "execution_count": 3,
   "metadata": {},
   "outputs": [
    {
     "data": {
      "application/vnd.jupyter.widget-view+json": {
       "model_id": "b52a27bce2d94b0eb0a8535273ca34a2",
       "version_major": 2,
       "version_minor": 0
      },
      "text/plain": [
       "interactive(children=(IntSlider(value=50, description='size', max=200, min=50, step=10), Dropdown(description=…"
      ]
     },
     "metadata": {},
     "output_type": "display_data"
    }
   ],
   "source": [
    "from regression.nw.interactive import nw_interactive\n",
    "\n",
    "interact_manual(nw_interactive, \n",
    "                size = widgets.IntSlider(min = 50, max = 200, step = 10, value = 50),\n",
    "                fn_name = ['sin_with_noise', 'cos_with_noise', 'ox_with_noise'],\n",
    "                noise = widgets.FloatSlider(min = 0, max = 1, step = 0.05, value = 0.2),\n",
    "               );"
   ]
  },
  {
   "cell_type": "code",
   "execution_count": null,
   "metadata": {},
   "outputs": [],
   "source": []
  }
 ],
 "metadata": {
  "kernelspec": {
   "display_name": "Python 3",
   "language": "python",
   "name": "python3"
  },
  "language_info": {
   "codemirror_mode": {
    "name": "ipython",
    "version": 3
   },
   "file_extension": ".py",
   "mimetype": "text/x-python",
   "name": "python",
   "nbconvert_exporter": "python",
   "pygments_lexer": "ipython3",
   "version": "3.5.2"
  }
 },
 "nbformat": 4,
 "nbformat_minor": 2
}
